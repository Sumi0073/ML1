{
 "cells": [
  {
   "cell_type": "markdown",
   "id": "5390e6bd",
   "metadata": {},
   "source": [
    "Project Name:-Academic Performance Predictor "
   ]
  },
  {
   "cell_type": "code",
   "execution_count": 4,
   "id": "80954b40",
   "metadata": {},
   "outputs": [],
   "source": [
    "import pandas as pd\n",
    "import numpy as np\n",
    "import matplotlib.pyplot as plt\n",
    "import seaborn as sns\n",
    "from sklearn.linear_model import LinearRegression\n",
    "from sklearn.metrics import mean_squared_error\n",
    "from sklearn.model_selection import train_test_split\n",
    "%matplotlib inline"
   ]
  },
  {
   "cell_type": "code",
   "execution_count": 5,
   "id": "2437adda",
   "metadata": {},
   "outputs": [],
   "source": [
    "# Load the dataset\n",
    "url = 'https://raw.githubusercontent.com/AdiPersonalWorks/Random/master/student_scores%20-%20student_scores.csv'\n",
    "df = pd.read_csv(url)"
   ]
  },
  {
   "cell_type": "code",
   "execution_count": 6,
   "id": "37b1caef",
   "metadata": {},
   "outputs": [
    {
     "data": {
      "text/html": [
       "<div>\n",
       "<style scoped>\n",
       "    .dataframe tbody tr th:only-of-type {\n",
       "        vertical-align: middle;\n",
       "    }\n",
       "\n",
       "    .dataframe tbody tr th {\n",
       "        vertical-align: top;\n",
       "    }\n",
       "\n",
       "    .dataframe thead th {\n",
       "        text-align: right;\n",
       "    }\n",
       "</style>\n",
       "<table border=\"1\" class=\"dataframe\">\n",
       "  <thead>\n",
       "    <tr style=\"text-align: right;\">\n",
       "      <th></th>\n",
       "      <th>Hours</th>\n",
       "      <th>Scores</th>\n",
       "    </tr>\n",
       "  </thead>\n",
       "  <tbody>\n",
       "    <tr>\n",
       "      <th>0</th>\n",
       "      <td>2.5</td>\n",
       "      <td>21</td>\n",
       "    </tr>\n",
       "    <tr>\n",
       "      <th>1</th>\n",
       "      <td>5.1</td>\n",
       "      <td>47</td>\n",
       "    </tr>\n",
       "    <tr>\n",
       "      <th>2</th>\n",
       "      <td>3.2</td>\n",
       "      <td>27</td>\n",
       "    </tr>\n",
       "    <tr>\n",
       "      <th>3</th>\n",
       "      <td>8.5</td>\n",
       "      <td>75</td>\n",
       "    </tr>\n",
       "    <tr>\n",
       "      <th>4</th>\n",
       "      <td>3.5</td>\n",
       "      <td>30</td>\n",
       "    </tr>\n",
       "  </tbody>\n",
       "</table>\n",
       "</div>"
      ],
      "text/plain": [
       "   Hours  Scores\n",
       "0    2.5      21\n",
       "1    5.1      47\n",
       "2    3.2      27\n",
       "3    8.5      75\n",
       "4    3.5      30"
      ]
     },
     "execution_count": 6,
     "metadata": {},
     "output_type": "execute_result"
    }
   ],
   "source": [
    "# Display first few rows of the dataset\n",
    "df.head()"
   ]
  },
  {
   "cell_type": "code",
   "execution_count": 7,
   "id": "7dfe6a2a",
   "metadata": {},
   "outputs": [
    {
     "data": {
      "image/png": "[encoded data removed]",
      "text/plain": [
       "<Figure size 432x288 with 1 Axes>"
      ]
     },
     "metadata": {
      "needs_background": "light"
     },
     "output_type": "display_data"
    }
   ],
   "source": [
    "# Visualize the data with a regression plot\n",
    "sns.regplot(data=df, x='Hours', y='Scores', ci=None)\n",
    "plt.xlabel('Hours/day')\n",
    "plt.ylabel('Score')\n",
    "plt.show()\n"
   ]
  },
  {
   "cell_type": "code",
   "execution_count": 8,
   "id": "1a725e66",
   "metadata": {},
   "outputs": [
    {
     "name": "stdout",
     "output_type": "stream",
     "text": [
      "           Hours    Scores\n",
      "Hours   1.000000  0.976191\n",
      "Scores  0.976191  1.000000\n"
     ]
    }
   ],
   "source": [
    "# Display correlation matrix\n",
    "print(df.corr())"
   ]
  },
  {
   "cell_type": "code",
   "execution_count": 9,
   "id": "6d6bb3b8",
   "metadata": {},
   "outputs": [],
   "source": [
    "\n",
    "# Split the data into inputs (X) and outputs (y)\n",
    "x = df['Hours'].values.reshape(-1, 1)\n",
    "y = df['Scores'].values.reshape(-1, 1)"
   ]
  },
  {
   "cell_type": "code",
   "execution_count": 10,
   "id": "d172ae50",
   "metadata": {},
   "outputs": [],
   "source": [
    "# Split the data into training and testing sets\n",
    "x_train, x_test, y_train, y_test = train_test_split(x, y, test_size=0.2, random_state=42)"
   ]
  },
  {
   "cell_type": "code",
   "execution_count": 11,
   "id": "c1b0b47f",
   "metadata": {},
   "outputs": [
    {
     "name": "stdout",
     "output_type": "stream",
     "text": [
      "Model Trained\n"
     ]
    }
   ],
   "source": [
    "# Initialize and train the Linear Regression model\n",
    "reg = LinearRegression()\n",
    "reg.fit(x_train, y_train)\n",
    "\n",
    "# Model training completion message\n",
    "print('Model Trained')"
   ]
  },
  {
   "cell_type": "code",
   "execution_count": 12,
   "id": "2e222f5b",
   "metadata": {},
   "outputs": [],
   "source": [
    "# Predict the scores using the test set\n",
    "y_pred = reg.predict(x_test)"
   ]
  },
  {
   "cell_type": "code",
   "execution_count": 13,
   "id": "d7f2f5ea",
   "metadata": {},
   "outputs": [
    {
     "name": "stdout",
     "output_type": "stream",
     "text": [
      "   Actual  Predicted\n",
      "0      81  83.188141\n",
      "1      30  27.032088\n",
      "2      21  27.032088\n",
      "3      76  69.633232\n",
      "4      62  59.951153\n"
     ]
    }
   ],
   "source": [
    "# Compare actual vs predicted scores\n",
    "new_df = pd.DataFrame({'Actual': y_test.flatten(), 'Predicted': y_pred.flatten()})\n",
    "print(new_df)"
   ]
  },
  {
   "cell_type": "code",
   "execution_count": 14,
   "id": "0b439e34",
   "metadata": {},
   "outputs": [
    {
     "name": "stdout",
     "output_type": "stream",
     "text": [
      "\n",
      "No of hours: 9.5\n",
      "Marks predicted: 94.80663482122885\n",
      "\n"
     ]
    }
   ],
   "source": [
    "\n",
    "# Predict score for a student who studies 9.5 hours\n",
    "hours = np.array(9.5).reshape(-1, 1)\n",
    "predicted = reg.predict(hours)\n",
    "print(f'''\n",
    "No of hours: {hours.flatten()[0]}\n",
    "Marks predicted: {predicted.flatten()[0]}\n",
    "''')"
   ]
  },
  {
   "cell_type": "code",
   "execution_count": 15,
   "id": "e45f638d",
   "metadata": {},
   "outputs": [
    {
     "name": "stdout",
     "output_type": "stream",
     "text": [
      "Test R²: 0.97\n",
      "Test RMSE: 4.35\n"
     ]
    }
   ],
   "source": [
    "# Model evaluation metrics for the test set\n",
    "test_r2 = reg.score(x_test, y_test)\n",
    "test_rmse = np.sqrt(mean_squared_error(y_test, y_pred))\n",
    "print(\"Test R²: {:.2f}\".format(test_r2))\n",
    "print(\"Test RMSE: {:.2f}\".format(test_rmse))\n"
   ]
  },
  {
   "cell_type": "code",
   "execution_count": 16,
   "id": "b4347371",
   "metadata": {},
   "outputs": [
    {
     "name": "stdout",
     "output_type": "stream",
     "text": [
      "Training R²: 0.95\n",
      "Training RMSE: 5.61\n"
     ]
    }
   ],
   "source": [
    "# Model evaluation metrics for the training set\n",
    "y_train_pred = reg.predict(x_train)\n",
    "train_r2 = reg.score(x_train, y_train)\n",
    "train_rmse = np.sqrt(mean_squared_error(y_train, y_train_pred))\n",
    "\n",
    "print(\"Training R²: {:.2f}\".format(train_r2))\n",
    "print(\"Training RMSE: {:.2f}\".format(train_rmse))"
   ]
  },
  {
   "cell_type": "code",
   "execution_count": 20,
   "id": "eb57fbd3",
   "metadata": {},
   "outputs": [
    {
     "name": "stdout",
     "output_type": "stream",
     "text": [
      "No overfitting detected. Model generalizes well.\n"
     ]
    }
   ],
   "source": [
    "# Compare the performance\n",
    "if train_r2 > test_r2:\n",
    "    print(\"Potential overfitting detected. The model performs better on the training set than the test set.\")\n",
    "else:\n",
    "    print(\"No overfitting detected. Model generalizes well.\")"
   ]
  },
  {
   "cell_type": "code",
   "execution_count": null,
   "id": "e5c337f4",
   "metadata": {},
   "outputs": [],
   "source": []
  }
 ],
 "metadata": {
  "kernelspec": {
   "display_name": "Python 3",
   "language": "python",
   "name": "python3"
  },
  "language_info": {
   "codemirror_mode": {
    "name": "ipython",
    "version": 3
   },
   "file_extension": ".py",
   "mimetype": "text/x-python",
   "name": "python",
   "nbconvert_exporter": "python",
   "pygments_lexer": "ipython3",
   "version": "3.8.8"
  }
 },
 "nbformat": 4,
 "nbformat_minor": 5
}
